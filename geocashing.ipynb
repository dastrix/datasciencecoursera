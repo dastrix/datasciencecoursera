{
 "cells": [
  {
   "cell_type": "markdown",
   "metadata": {},
   "source": [
    "http://www.geocaching.su/?pn=101&cid=11674"
   ]
  },
  {
   "cell_type": "code",
   "execution_count": 49,
   "metadata": {},
   "outputs": [
    {
     "name": "stdout",
     "output_type": "stream",
     "text": [
      "r1:  35.0 r2:  44.0 r3:  59.0\n",
      "False\n",
      "x1:  3 x2:  2 x3:  0 A:  1.31 B2:  1.3\n",
      "r1:  13.03 r2:  20.82 r3:  33.8\n",
      "x1:  4 x2:  3 x3:  0 A:  1.31 B2:  1.3\n",
      "r1:  13.04 r2:  20.83 r3:  33.8\n",
      "x1:  5 x2:  3 x3:  0 A:  1.31 B2:  1.3\n",
      "r1:  13.05 r2:  20.83 r3:  33.8\n",
      "x1:  6 x2:  4 x3:  0 A:  1.31 B2:  1.3\n",
      "r1:  13.06 r2:  20.84 r3:  33.8\n",
      "x1:  7 x2:  4 x3:  0 A:  1.31 B2:  1.3\n",
      "r1:  13.07 r2:  20.84 r3:  33.8\n",
      "x1:  8 x2:  5 x3:  0 A:  1.31 B2:  1.3\n",
      "r1:  13.08 r2:  20.85 r3:  33.8\n",
      "x1:  9 x2:  5 x3:  0 A:  1.31 B2:  1.3\n",
      "r1:  13.09 r2:  20.85 r3:  33.8\n",
      "end\n"
     ]
    }
   ],
   "source": [
    "def check(x1, x2, x3, A, B, dump):\n",
    "    r1 = x1*A + (10-x1)*B\n",
    "    r2 = x2*A + (16-x2)*B\n",
    "    r3 = x3*A + (26-x3)*B\n",
    "    if (dump):\n",
    "        print \"r1: \", r1, \"r2: \", r2, \"r3: \", r3\n",
    "    return r1 == r2 == r3 == 35\n",
    "\n",
    "print check(20,20,20,2.5,1.5, True)\n",
    "\n",
    "x1 = x2 = x3 = x1b = 0;\n",
    "\n",
    "for x1 in range(10):\n",
    "    for x2 in range(x1):\n",
    "        for x3 in range(x2):\n",
    "            for A in range(1300, 3500, 10):\n",
    "                for B in range(1300, A, 10):\n",
    "                    A = A / 1000.\n",
    "                    B = B / 1000.\n",
    "                    if (check(x1, x2, x3, A, B, False)):\n",
    "                        print \"!!!!!!!!!!!!!!!!!!!!!!!!!!!!!!!!!!!!!!!!!!!!!!!\"\n",
    "                        print \"BINGO\"\n",
    "                        print \"x1: \", x1, \"x2: \", x2, \"x3: \", x3, \"A: \", A, \"B2: \", B\n",
    "                        print \"!!!!!!!!!!!!!!!!!!!!!!!!!!!!!!!!!!!!!!!!!!!!!!!\"\n",
    "                    if (x1 != x1b and (x2 > x1/2.)):\n",
    "                        print \"x1: \", x1, \"x2: \", x2, \"x3: \", x3, \"A: \", A, \"B2: \", B\n",
    "                        check(x1, x2, x3, A, B, True)\n",
    "                        x1b = x1\n",
    "#                     print check(x1, x2, x3, A, B)\n",
    "\n",
    "print \"end\""
   ]
  },
  {
   "cell_type": "code",
   "execution_count": 16,
   "metadata": {},
   "outputs": [
    {
     "data": {
      "text/plain": [
       "33.800000000000004"
      ]
     },
     "execution_count": 16,
     "metadata": {},
     "output_type": "execute_result"
    }
   ],
   "source": [
    "1.3*26"
   ]
  },
  {
   "cell_type": "markdown",
   "metadata": {},
   "source": [
    "Задача вторая. После бананов совсем простенькая. Чему равно 84, если 8 умноженное на 8 равно 54. Это будет число В.\n",
    "Ответ - 70"
   ]
  },
  {
   "cell_type": "code",
   "execution_count": 48,
   "metadata": {},
   "outputs": [
    {
     "name": "stdout",
     "output_type": "stream",
     "text": [
      "64\n",
      "84\n"
     ]
    }
   ],
   "source": [
    "print int(\"54\",12)\n",
    "print int(\"70\",12)"
   ]
  }
 ],
 "metadata": {
  "kernelspec": {
   "display_name": "Python 2",
   "language": "python",
   "name": "python2"
  },
  "language_info": {
   "codemirror_mode": {
    "name": "ipython",
    "version": 2
   },
   "file_extension": ".py",
   "mimetype": "text/x-python",
   "name": "python",
   "nbconvert_exporter": "python",
   "pygments_lexer": "ipython2",
   "version": "2.7.14"
  }
 },
 "nbformat": 4,
 "nbformat_minor": 2
}
