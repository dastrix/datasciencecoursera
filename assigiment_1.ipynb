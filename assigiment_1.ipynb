{
 "cells": [
  {
   "cell_type": "markdown",
   "metadata": {},
   "source": [
    "Выполните следующие шаги:\n",
    "\n",
    "1. Скачайте файл с предложениями (sentences.txt).\n",
    "* Каждая строка в файле соответствует одному предложению. Считайте их, приведите каждую к нижнему регистру с помощью строковой функции lower().\n",
    "* Произведите токенизацию, то есть разбиение текстов на слова. Для этого можно воспользоваться регулярным выражением, которое считает разделителем любой символ, не являющийся буквой: re.split('[^a-z]', t). Не забудьте удалить пустые слова после разделения.\n",
    "* Составьте список всех слов, встречающихся в предложениях. Сопоставьте каждому слову индекс от нуля до (d - 1), где d — число различных слов в предложениях. Для этого удобно воспользоваться структурой dict.\n",
    "* Создайте матрицу размера n * d, где n — число предложений. Заполните ее: элемент с индексом (i, j) в этой матрице должен быть равен количеству вхождений j-го слова в i-е предложение. У вас должна получиться матрица размера 22 * 254.\n",
    "* Найдите косинусное расстояние от предложения в самой первой строке (In comparison to dogs, cats have not undergone...) до всех остальных с помощью функции scipy.spatial.distance.cosine. Какие номера у двух предложений, ближайших к нему по этому расстоянию (строки нумеруются с нуля)? Эти два числа и будут ответами на задание. Само предложение (In comparison to dogs, cats have not undergone... ) имеет индекс 0.\n",
    "* Запишите полученные числа в файл, разделив пробелом. Обратите внимание, что файл должен состоять из одной строки, в конце которой не должно быть переноса. Пример файла с решением вы можете найти в конце задания (submission-1.txt).\n",
    "* Совпадают ли ближайшие два предложения по тематике с первым? Совпадают ли тематики у следующих по близости предложений?\n",
    "\n",
    "Разумеется, использованный вами метод крайне простой. Например, он не учитывает формы слов (так, cat и cats он считает разными словами, хотя по сути они означают одно и то же), не удаляет из текстов артикли и прочие ненужные слова. Позже мы будем подробно изучать анализ текстов, где выясним, как достичь высокого качества в задаче поиска похожих предложений.\n"
   ]
  },
  {
   "cell_type": "code",
   "execution_count": 84,
   "metadata": {},
   "outputs": [
    {
     "name": "stdout",
     "output_type": "stream",
     "text": [
      "{'firmware': 229, 'safari': 1, 'just': 2, 'leopard.': 3, 'developed': 29, 'over': 5, 'both': 112, 'one,': 6, 'computers.': 100, 'installed': 8, 'arguments,': 9, 'through': 10, 'artificial': 82, 'human': 12, 'using': 13, 'ears,': 14, 'disk': 77, 'its': 16, 'fifth': 17, 'leopard,': 158, 'tamed': 19, 'symbols.': 21, 'organisms': 265, 'computers': 201, 'with': 181, 'mavericks,': 23, '\"<\"': 25, 'to': 26, '11.0': 230, 'deliberately': 27, '4': 28, 'marks': 38, 'successor': 132, 'world.': 31, 'x86-based': 32, '2012': 33, 'adjacent': 235, 'was': 189, 'domestic': 35, 'process.': 36, '26,': 37, 'year.': 39, 'made': 186, 'every': 41, 'they': 43, 'instead': 237, 'not': 44, 'during': 45, 'now': 47, 'possess': 49, 'intel': 51, 'kg': 264, 'command': 276, 'felis,': 184, 'patch': 74, 'predators': 54, '(8.8': 55, 'small': 57, \"won't\": 42, 'lb).': 59, 'where': 60, 'stdin': 269, 'catenates': 61, 'concatenate': 93, 'sequence': 64, 'linux': 144, 'some': 66, 'dogs,': 242, 'unnecessary.': 68, 'lion': 69, 'frequency': 70, 'displays': 0, 'download': 72, 'terms': 73, 'concern': 75, 'yosemite,': 76, 'flow': 270, 'for': 78, 'pipes': 79, 'since': 80, 'factory': 81, '/': 11, 'content': 83, 'features': 257, 'between': 85, 'selection,': 86, 'new': 87, 'learned': 88, 'command,': 53, 'redirected,': 91, 'common': 92, 'available': 62, 'be': 94, '2010,': 95, 'run': 84, '300': 97, 'of': 118, 'undergone': 149, 'standard': 101, 'release': 102, 'were': 195, 'non-apple': 103, 'diploid': 104, 'members': 105, 'output': 106, 'safer': 107, 'animals.': 108, '20,000': 109, 'by': 110, 'files,': 152, 'on': 63, 'commands': 113, '38': 114, 'weighing': 96, 'installs': 117, 'keyboards)': 30, 'stdout.': 119, 'needing': 120, 'allows': 121, 'according': 122, 'piped': 90, '(version': 24, 'receives': 126, 'however,': 127, 'genus': 128, 'changes': 129, 'or': 130, 'computers,': 131, 'named': 7, 'contains': 134, 'useful': 135, 'apple': 18, '25,': 137, 'app': 138, 'mice': 180, 'community': 139, 'one': 140, 'running': 141, 'unix': 142, 'output.': 58, 'tiger.': 65, 'sounds': 145, 'size': 146, 'has': 148, 'use': 99, 'delete': 150, 'from': 151, 'enhancements': 111, 'major': 133, 'apple,': 155, 'people': 48, 'three': 89, 'their': 154, 'cats': 160, 'redirection': 159, 'basic': 162, '10.4),': 116, 'recent': 261, 'type': 164, 'too': 161, \"apple's\": 166, 'releases': 167, 'count.': 50, 'upgrade,': 147, 'offered': 170, 'releasing': 171, 'vermin.': 172, 'tiger': 173, 'bytes,': 174, 'part': 46, 'hear': 176, 'external': 177, 'place,': 178, 'installation': 115, 'july': 52, 'information.': 22, 'than': 182, 'those': 183, 'permanently': 163, 'high': 210, 'october': 40, 'versions': 187, 'default': 188, 'lion.': 56, 'also': 232, 'when': 190, 'typically': 282, 'second': 153, 'cat': 192, 'will': 193, 'wrong': 255, 'simply': 143, 'can': 194, 'error': 98, 'wild': 196, 'mountain': 247, 'more': 165, 'similar': 197, 'are': 71, 'and': 199, 'predecessor,': 200, 'interactive': 198, 'file': 214, 'process': 203, 'osx86': 20, 'is': 205, 'received': 206, 'moved': 207, 'it': 208, 'an': 209, 'drive.': 185, 'single': 191, 'incremental': 212, 'have': 202, 'in': 215, 'need': 216, 'create': 217, 'domesticated': 218, 'any': 219, 'as': 211, 'if': 221, 'binary': 222, 'store,': 223, 'x,': 213, 'no': 225, 'rather': 226, '\">\"': 227, 'that': 168, '-': 4, 'mid': 231, 'started': 169, 'other': 233, '5': 234, 'domestication': 220, 'which': 34, 'online': 236, 'streams': 125, 'you': 238, 'ancestor': 239, '(often': 241, 'genes.': 67, 'used': 243, 'chromosomes': 244, 'legibility,': 245, 'closest': 246, 'separate': 228, 'may': 248, 'symbol': 249, 'left-to-right': 250, 'leopard': 251, 'update': 252, 'read.': 253, 'most': 254, 'mac': 124, 'connected': 256, 'two': 157, 'x': 258, 'such': 259, 'faint': 156, 'comparison': 260, 'without': 275, 'processors': 224, 'a': 262, 'purchase': 263, 'off': 179, 'longer': 15, 'released': 266, 'os': 136, 'clear': 268, 'later': 123, 'lines': 204, 'roughly': 271, 'so': 272, 'entirely.': 273, 'switch': 274, 'bytes.': 175, 'editions.': 240, '2007': 277, 'allow': 278, 'time': 279, 'redirected': 280, 'the': 281, 'starting': 267}\n"
     ]
    }
   ],
   "source": [
    "from pprint import pprint\n",
    "\n",
    "f = open('sentences.txt')\n",
    "fdata = f.readlines()\n",
    "lines = [line.lower() for line in fdata]\n",
    "wlines = [line.split() for line in lines]\n",
    "\n",
    "words = []\n",
    "[words.extend(line) for line in wlines]\n",
    "words = list(set(words))\n",
    "\n",
    "# {x:{y} for x,y in enumerate(list)}\n",
    "\n",
    "dct = {y:x for x,y in enumerate(words)}\n",
    "print dct"
   ]
  }
 ],
 "metadata": {
  "kernelspec": {
   "display_name": "Python 2",
   "language": "python",
   "name": "python2"
  },
  "language_info": {
   "codemirror_mode": {
    "name": "ipython",
    "version": 2
   },
   "file_extension": ".py",
   "mimetype": "text/x-python",
   "name": "python",
   "nbconvert_exporter": "python",
   "pygments_lexer": "ipython2",
   "version": "2.7.14"
  }
 },
 "nbformat": 4,
 "nbformat_minor": 2
}
