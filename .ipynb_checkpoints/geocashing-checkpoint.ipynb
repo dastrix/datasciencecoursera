{
 "cells": [
  {
   "cell_type": "markdown",
   "metadata": {},
   "source": [
    "http://www.geocaching.su/?pn=101&cid=11674\n",
    "\n",
    "Задача первая. Три геокешера отправились рано утром на рынок торговать бананами. Первый принёс 10 бананов, второй 16, третий 26. Торговали они по одной и той же цене. Но до обеда каждый из них продал разное количество бананов. Пообедав они решили, что по такой цене они до вечера всё распродать не успеют. Они снова договорились об одной, но уже более низкой цене. До вечера как раз успели распродать все свои бананы. И что самое забавное, у всех троих за день выручка оказалась одинаковой, равной 35 рублей. Вопрос : по сколько они продавали бананы до обеда и по сколько после. До обеда это число А, после обеда число Б. Числа А и Б трёхзначные, выраженные в копейках."
   ]
  },
  {
   "cell_type": "code",
   "execution_count": null,
   "metadata": {},
   "outputs": [],
   "source": [
    "from scipy.spatial import distance\n",
    "\n",
    "# X1(A-B) + 10*B\n",
    "\n",
    "def check(x1, x2, x3, A, B, dump = False):\n",
    "    r1 = x1*A + (10-x1)*B\n",
    "    r2 = x2*A + (16-x2)*B\n",
    "    r3 = x3*A + (26-x3)*B\n",
    "    if (dump):\n",
    "        print \"r1: \", r1, \"r2: \", r2, \"r3: \", r3, \"dist: \", distance.cosine([r1, r2, r3], [35,35,35])\n",
    "    return distance.euclidean([r1, r2, r3], [35,35,35])\n",
    "#     return r1 == r2 == r3 == 35\n",
    "\n",
    "print check(10,8,1,3.5,0.88, True)\n",
    "# print check(20,20,20,2.5,1.5, True)\n",
    "\n",
    "x1 = x2 = x3 = x1b = 0;\n",
    "\n",
    "dst = 9999.0\n",
    "# return \n",
    "for x1 in range(11):\n",
    "    for x2 in range(x1+1):\n",
    "        for x3 in range(x2+1):\n",
    "            for A in range(1300, 3600, 10):\n",
    "                for B in range(1300, A, 10):\n",
    "                    A = A / 1000.\n",
    "                    B = B / 1000.\n",
    "                    if (check(x1, x2, x3, A, B, False) < dst):\n",
    "                        dst = check(x1, x2, x3, A, B, False)\n",
    "                        print \"!!!!!!!!!!!!!!!!!!!!!!!!!!!!!!!!!!!!!!!!!!!!!!!\"\n",
    "                        print \"BINGO\"\n",
    "                        print \"x1: \", x1, \"x2: \", x2, \"x3: \", x3, \"A: \", A, \"B2: \", B, \"dst: \", dst\n",
    "                        check(x1, x2, x3, A, B, True)\n",
    "                        print \"!!!!!!!!!!!!!!!!!!!!!!!!!!!!!!!!!!!!!!!!!!!!!!!\"\n",
    "                    if (x1 != x1b and (x2 > x1/2.) and False):\n",
    "                        print \"x1: \", x1, \"x2: \", x2, \"x3: \", x3, \"A: \", A, \"B2: \", B\n",
    "                        check(x1, x2, x3, A, B, True)\n",
    "                        x1b = x1\n",
    "#                     print check(x1, x2, x3, A, B)\n",
    "\n",
    "print \"end\""
   ]
  },
  {
   "cell_type": "code",
   "execution_count": null,
   "metadata": {},
   "outputs": [],
   "source": [
    "from scipy.optimize import optimize, minimize, rosen, rosen_der\n",
    "from scipy import optimize\n",
    "\n",
    "def checkv(res):\n",
    "    if (min(res) < 0):\n",
    "        return 100\n",
    "    return check(res[0], res[1], res[2], res[3], res[4], False)\n",
    "\n",
    "x0 = [10,1,0,2,2]\n",
    "res = optimize.minimize(checkv, x0, method='Nelder-Mead', tol=1e-6)\n",
    "print \"!\"\n",
    "print res.x\n",
    "res = res.x\n",
    "print check(res[0], res[1], res[2], res[3], res[4], True)"
   ]
  },
  {
   "cell_type": "markdown",
   "metadata": {},
   "source": [
    "Задача вторая. После бананов совсем простенькая. Чему равно 84, если 8 умноженное на 8 равно 54. Это будет число В.\n",
    "Ответ - 70"
   ]
  },
  {
   "cell_type": "code",
   "execution_count": 48,
   "metadata": {},
   "outputs": [
    {
     "name": "stdout",
     "output_type": "stream",
     "text": [
      "64\n",
      "84\n"
     ]
    }
   ],
   "source": [
    "print int(\"54\",12)\n",
    "print int(\"70\",12)"
   ]
  }
 ],
 "metadata": {
  "kernelspec": {
   "display_name": "Python 2",
   "language": "python",
   "name": "python2"
  },
  "language_info": {
   "codemirror_mode": {
    "name": "ipython",
    "version": 2
   },
   "file_extension": ".py",
   "mimetype": "text/x-python",
   "name": "python",
   "nbconvert_exporter": "python",
   "pygments_lexer": "ipython2",
   "version": "2.7.14"
  }
 },
 "nbformat": 4,
 "nbformat_minor": 2
}
